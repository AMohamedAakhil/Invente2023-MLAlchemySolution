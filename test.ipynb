{
 "cells": [
  {
   "cell_type": "code",
   "execution_count": 44,
   "metadata": {},
   "outputs": [
    {
     "data": {
      "text/plain": [
       "UniqueID                 0\n",
       "type_school              0\n",
       "school_accreditation     0\n",
       "gender                   0\n",
       "interest                 0\n",
       "residence                0\n",
       "parent_age               0\n",
       "parent_salary            0\n",
       "house_area               0\n",
       "average_grades           0\n",
       "parent_was_in_college    0\n",
       "dtype: int64"
      ]
     },
     "execution_count": 44,
     "metadata": {},
     "output_type": "execute_result"
    }
   ],
   "source": [
    "import pandas as pd\n",
    "\n",
    "test_df = pd.read_csv('data/Test.csv')\n",
    "categorical_cols = [\"type_school\", \"school_accreditation\", \"gender\", \"interest\", \"residence\", \"parent_was_in_college\"]\n",
    "continuous_cols = [col for col in test_df.columns if col not in categorical_cols and col != 'UniqueID']\n",
    "\n",
    "for col in categorical_cols:\n",
    "    most_frequent = test_df[col].mode()[0]\n",
    "    test_df[col].fillna(most_frequent, inplace=True)\n",
    "\n",
    "for col in continuous_cols:\n",
    "    mean_value = test_df[col].mean()\n",
    "    test_df[col].fillna(mean_value, inplace=True)\n",
    "\n",
    "X_unique_id = test_df['UniqueID']\n",
    "\n",
    "test_df.isnull().sum()"
   ]
  },
  {
   "cell_type": "code",
   "execution_count": 45,
   "metadata": {},
   "outputs": [
    {
     "data": {
      "text/plain": [
       "Index(['type_school', 'school_accreditation', 'gender', 'interest',\n",
       "       'residence', 'parent_salary', 'house_area', 'average_grades',\n",
       "       'parent_was_in_college'],\n",
       "      dtype='object')"
      ]
     },
     "execution_count": 45,
     "metadata": {},
     "output_type": "execute_result"
    }
   ],
   "source": [
    "X = test_df.drop(columns=[\"UniqueID\"])\n",
    "\n",
    "from sklearn.preprocessing import LabelEncoder\n",
    "\n",
    "le = LabelEncoder()\n",
    "columns_to_encode = [\"type_school\", \"school_accreditation\", \"gender\", \"interest\", \"residence\", \"parent_was_in_college\"]\n",
    "for column in columns_to_encode:\n",
    "    X[column] = le.fit_transform(X[column])\n",
    "\n",
    "X = X.drop(columns=[\"parent_age\"])\n",
    "X.columns"
   ]
  },
  {
   "cell_type": "code",
   "execution_count": 46,
   "metadata": {},
   "outputs": [],
   "source": [
    "import joblib\n",
    "\n",
    "model_filename = 'rf_model_latest.pkl'\n",
    "loaded_model = joblib.load(model_filename)\n",
    "\n",
    "y_pred = loaded_model.predict(X)"
   ]
  },
  {
   "cell_type": "code",
   "execution_count": 47,
   "metadata": {},
   "outputs": [
    {
     "data": {
      "text/plain": [
       "(200, 200)"
      ]
     },
     "execution_count": 47,
     "metadata": {},
     "output_type": "execute_result"
    }
   ],
   "source": [
    "len(y_pred), len(X_unique_id)"
   ]
  },
  {
   "cell_type": "code",
   "execution_count": 48,
   "metadata": {},
   "outputs": [],
   "source": [
    "y_pred_df = pd.DataFrame({'y_pred': y_pred})\n",
    "result_df = pd.concat([X_unique_id, y_pred_df], axis=1)\n",
    "result_df.to_csv('rf_hypetune.csv', index=False)"
   ]
  },
  {
   "cell_type": "code",
   "execution_count": null,
   "metadata": {},
   "outputs": [],
   "source": []
  },
  {
   "cell_type": "code",
   "execution_count": null,
   "metadata": {},
   "outputs": [],
   "source": []
  },
  {
   "cell_type": "code",
   "execution_count": null,
   "metadata": {},
   "outputs": [],
   "source": []
  },
  {
   "cell_type": "code",
   "execution_count": null,
   "metadata": {},
   "outputs": [],
   "source": []
  }
 ],
 "metadata": {
  "kernelspec": {
   "display_name": "Python 3",
   "language": "python",
   "name": "python3"
  },
  "language_info": {
   "codemirror_mode": {
    "name": "ipython",
    "version": 3
   },
   "file_extension": ".py",
   "mimetype": "text/x-python",
   "name": "python",
   "nbconvert_exporter": "python",
   "pygments_lexer": "ipython3",
   "version": "3.11.2"
  }
 },
 "nbformat": 4,
 "nbformat_minor": 2
}
