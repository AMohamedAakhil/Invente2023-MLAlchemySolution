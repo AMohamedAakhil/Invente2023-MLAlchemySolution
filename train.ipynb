{
 "cells": [
  {
   "cell_type": "code",
   "execution_count": 243,
   "metadata": {},
   "outputs": [],
   "source": [
    "import pandas as pd\n",
    "import matplotlib.pyplot as plt\n",
    "import seaborn as sns"
   ]
  },
  {
   "cell_type": "code",
   "execution_count": 244,
   "metadata": {},
   "outputs": [
    {
     "data": {
      "text/html": [
       "<div>\n",
       "<style scoped>\n",
       "    .dataframe tbody tr th:only-of-type {\n",
       "        vertical-align: middle;\n",
       "    }\n",
       "\n",
       "    .dataframe tbody tr th {\n",
       "        vertical-align: top;\n",
       "    }\n",
       "\n",
       "    .dataframe thead th {\n",
       "        text-align: right;\n",
       "    }\n",
       "</style>\n",
       "<table border=\"1\" class=\"dataframe\">\n",
       "  <thead>\n",
       "    <tr style=\"text-align: right;\">\n",
       "      <th></th>\n",
       "      <th>UniqueID</th>\n",
       "      <th>type_school</th>\n",
       "      <th>school_accreditation</th>\n",
       "      <th>gender</th>\n",
       "      <th>interest</th>\n",
       "      <th>residence</th>\n",
       "      <th>parent_age</th>\n",
       "      <th>parent_salary</th>\n",
       "      <th>house_area</th>\n",
       "      <th>average_grades</th>\n",
       "      <th>parent_was_in_college</th>\n",
       "      <th>will_go_to_college</th>\n",
       "    </tr>\n",
       "  </thead>\n",
       "  <tbody>\n",
       "    <tr>\n",
       "      <th>0</th>\n",
       "      <td>30</td>\n",
       "      <td>Vocational</td>\n",
       "      <td>B</td>\n",
       "      <td>Female</td>\n",
       "      <td>Uncertain</td>\n",
       "      <td>Rural</td>\n",
       "      <td>50.0</td>\n",
       "      <td>6450000.0</td>\n",
       "      <td>78.4</td>\n",
       "      <td>85.86</td>\n",
       "      <td>True</td>\n",
       "      <td>False</td>\n",
       "    </tr>\n",
       "    <tr>\n",
       "      <th>1</th>\n",
       "      <td>536</td>\n",
       "      <td>Vocational</td>\n",
       "      <td>A</td>\n",
       "      <td>Male</td>\n",
       "      <td>Very Interested</td>\n",
       "      <td>Urban</td>\n",
       "      <td>54.0</td>\n",
       "      <td>5450000.0</td>\n",
       "      <td>70.3</td>\n",
       "      <td>NaN</td>\n",
       "      <td>False</td>\n",
       "      <td>True</td>\n",
       "    </tr>\n",
       "    <tr>\n",
       "      <th>2</th>\n",
       "      <td>696</td>\n",
       "      <td>Vocational</td>\n",
       "      <td>A</td>\n",
       "      <td>Female</td>\n",
       "      <td>Very Interested</td>\n",
       "      <td>Urban</td>\n",
       "      <td>52.0</td>\n",
       "      <td>5520000.0</td>\n",
       "      <td>82.5</td>\n",
       "      <td>84.59</td>\n",
       "      <td>False</td>\n",
       "      <td>True</td>\n",
       "    </tr>\n",
       "    <tr>\n",
       "      <th>3</th>\n",
       "      <td>558</td>\n",
       "      <td>Academic</td>\n",
       "      <td>A</td>\n",
       "      <td>Male</td>\n",
       "      <td>Not Interested</td>\n",
       "      <td>Rural</td>\n",
       "      <td>41.0</td>\n",
       "      <td>3020000.0</td>\n",
       "      <td>50.6</td>\n",
       "      <td>77.18</td>\n",
       "      <td>True</td>\n",
       "      <td>False</td>\n",
       "    </tr>\n",
       "    <tr>\n",
       "      <th>4</th>\n",
       "      <td>837</td>\n",
       "      <td>Vocational</td>\n",
       "      <td>B</td>\n",
       "      <td>Male</td>\n",
       "      <td>Uncertain</td>\n",
       "      <td>Rural</td>\n",
       "      <td>52.0</td>\n",
       "      <td>6120000.0</td>\n",
       "      <td>65.8</td>\n",
       "      <td>84.55</td>\n",
       "      <td>True</td>\n",
       "      <td>False</td>\n",
       "    </tr>\n",
       "  </tbody>\n",
       "</table>\n",
       "</div>"
      ],
      "text/plain": [
       "   UniqueID type_school school_accreditation  gender         interest  \\\n",
       "0        30  Vocational                    B  Female        Uncertain   \n",
       "1       536  Vocational                    A    Male  Very Interested   \n",
       "2       696  Vocational                    A  Female  Very Interested   \n",
       "3       558    Academic                    A    Male   Not Interested   \n",
       "4       837  Vocational                    B    Male        Uncertain   \n",
       "\n",
       "  residence  parent_age  parent_salary  house_area  average_grades  \\\n",
       "0     Rural        50.0      6450000.0        78.4           85.86   \n",
       "1     Urban        54.0      5450000.0        70.3             NaN   \n",
       "2     Urban        52.0      5520000.0        82.5           84.59   \n",
       "3     Rural        41.0      3020000.0        50.6           77.18   \n",
       "4     Rural        52.0      6120000.0        65.8           84.55   \n",
       "\n",
       "  parent_was_in_college  will_go_to_college  \n",
       "0                  True               False  \n",
       "1                 False                True  \n",
       "2                 False                True  \n",
       "3                  True               False  \n",
       "4                  True               False  "
      ]
     },
     "execution_count": 244,
     "metadata": {},
     "output_type": "execute_result"
    }
   ],
   "source": [
    "df = pd.read_csv('data/Train.csv')\n",
    "df.head()"
   ]
  },
  {
   "cell_type": "code",
   "execution_count": 245,
   "metadata": {},
   "outputs": [
    {
     "data": {
      "text/plain": [
       "UniqueID                 0\n",
       "type_school              0\n",
       "school_accreditation     0\n",
       "gender                   0\n",
       "interest                 0\n",
       "residence                0\n",
       "parent_age               0\n",
       "parent_salary            0\n",
       "house_area               0\n",
       "average_grades           0\n",
       "parent_was_in_college    0\n",
       "will_go_to_college       0\n",
       "dtype: int64"
      ]
     },
     "execution_count": 245,
     "metadata": {},
     "output_type": "execute_result"
    }
   ],
   "source": [
    "categorical_cols = [\"type_school\", \"school_accreditation\", \"gender\", \"interest\", \"residence\", \"parent_was_in_college\"]\n",
    "continuous_cols = [col for col in df.columns if col not in categorical_cols and col != 'UniqueID']\n",
    "\n",
    "for col in categorical_cols:\n",
    "    most_frequent = df[col].mode()[0]\n",
    "    df[col].fillna(most_frequent, inplace=True)\n",
    "\n",
    "for col in continuous_cols:\n",
    "    mean_value = df[col].mean()\n",
    "    df[col].fillna(mean_value, inplace=True)\n",
    "\n",
    "df.isnull().sum()"
   ]
  },
  {
   "cell_type": "code",
   "execution_count": 246,
   "metadata": {},
   "outputs": [
    {
     "data": {
      "text/html": [
       "<div>\n",
       "<style scoped>\n",
       "    .dataframe tbody tr th:only-of-type {\n",
       "        vertical-align: middle;\n",
       "    }\n",
       "\n",
       "    .dataframe tbody tr th {\n",
       "        vertical-align: top;\n",
       "    }\n",
       "\n",
       "    .dataframe thead th {\n",
       "        text-align: right;\n",
       "    }\n",
       "</style>\n",
       "<table border=\"1\" class=\"dataframe\">\n",
       "  <thead>\n",
       "    <tr style=\"text-align: right;\">\n",
       "      <th></th>\n",
       "      <th>UniqueID</th>\n",
       "      <th>parent_age</th>\n",
       "      <th>parent_salary</th>\n",
       "      <th>house_area</th>\n",
       "      <th>average_grades</th>\n",
       "    </tr>\n",
       "  </thead>\n",
       "  <tbody>\n",
       "    <tr>\n",
       "      <th>count</th>\n",
       "      <td>800.000000</td>\n",
       "      <td>800.000000</td>\n",
       "      <td>8.000000e+02</td>\n",
       "      <td>800.000000</td>\n",
       "      <td>800.000000</td>\n",
       "    </tr>\n",
       "    <tr>\n",
       "      <th>mean</th>\n",
       "      <td>498.418750</td>\n",
       "      <td>52.061728</td>\n",
       "      <td>5.425740e+06</td>\n",
       "      <td>74.433108</td>\n",
       "      <td>86.131499</td>\n",
       "    </tr>\n",
       "    <tr>\n",
       "      <th>std</th>\n",
       "      <td>289.511545</td>\n",
       "      <td>3.259380</td>\n",
       "      <td>1.355573e+06</td>\n",
       "      <td>14.627427</td>\n",
       "      <td>3.184816</td>\n",
       "    </tr>\n",
       "    <tr>\n",
       "      <th>min</th>\n",
       "      <td>1.000000</td>\n",
       "      <td>40.000000</td>\n",
       "      <td>1.660000e+06</td>\n",
       "      <td>20.400000</td>\n",
       "      <td>75.620000</td>\n",
       "    </tr>\n",
       "    <tr>\n",
       "      <th>25%</th>\n",
       "      <td>242.750000</td>\n",
       "      <td>50.000000</td>\n",
       "      <td>4.547500e+06</td>\n",
       "      <td>65.675000</td>\n",
       "      <td>84.040000</td>\n",
       "    </tr>\n",
       "    <tr>\n",
       "      <th>50%</th>\n",
       "      <td>494.500000</td>\n",
       "      <td>52.000000</td>\n",
       "      <td>5.425740e+06</td>\n",
       "      <td>74.550000</td>\n",
       "      <td>86.015000</td>\n",
       "    </tr>\n",
       "    <tr>\n",
       "      <th>75%</th>\n",
       "      <td>751.250000</td>\n",
       "      <td>54.000000</td>\n",
       "      <td>6.345000e+06</td>\n",
       "      <td>83.800000</td>\n",
       "      <td>87.662500</td>\n",
       "    </tr>\n",
       "    <tr>\n",
       "      <th>max</th>\n",
       "      <td>1000.000000</td>\n",
       "      <td>65.000000</td>\n",
       "      <td>1.000000e+07</td>\n",
       "      <td>120.000000</td>\n",
       "      <td>97.000000</td>\n",
       "    </tr>\n",
       "  </tbody>\n",
       "</table>\n",
       "</div>"
      ],
      "text/plain": [
       "          UniqueID  parent_age  parent_salary  house_area  average_grades\n",
       "count   800.000000  800.000000   8.000000e+02  800.000000      800.000000\n",
       "mean    498.418750   52.061728   5.425740e+06   74.433108       86.131499\n",
       "std     289.511545    3.259380   1.355573e+06   14.627427        3.184816\n",
       "min       1.000000   40.000000   1.660000e+06   20.400000       75.620000\n",
       "25%     242.750000   50.000000   4.547500e+06   65.675000       84.040000\n",
       "50%     494.500000   52.000000   5.425740e+06   74.550000       86.015000\n",
       "75%     751.250000   54.000000   6.345000e+06   83.800000       87.662500\n",
       "max    1000.000000   65.000000   1.000000e+07  120.000000       97.000000"
      ]
     },
     "execution_count": 246,
     "metadata": {},
     "output_type": "execute_result"
    }
   ],
   "source": [
    "df.describe()"
   ]
  },
  {
   "cell_type": "code",
   "execution_count": 247,
   "metadata": {},
   "outputs": [
    {
     "name": "stdout",
     "output_type": "stream",
     "text": [
      "<class 'pandas.core.frame.DataFrame'>\n",
      "RangeIndex: 800 entries, 0 to 799\n",
      "Data columns (total 12 columns):\n",
      " #   Column                 Non-Null Count  Dtype  \n",
      "---  ------                 --------------  -----  \n",
      " 0   UniqueID               800 non-null    int64  \n",
      " 1   type_school            800 non-null    object \n",
      " 2   school_accreditation   800 non-null    object \n",
      " 3   gender                 800 non-null    object \n",
      " 4   interest               800 non-null    object \n",
      " 5   residence              800 non-null    object \n",
      " 6   parent_age             800 non-null    float64\n",
      " 7   parent_salary          800 non-null    float64\n",
      " 8   house_area             800 non-null    float64\n",
      " 9   average_grades         800 non-null    float64\n",
      " 10  parent_was_in_college  800 non-null    bool   \n",
      " 11  will_go_to_college     800 non-null    bool   \n",
      "dtypes: bool(2), float64(4), int64(1), object(5)\n",
      "memory usage: 64.2+ KB\n"
     ]
    }
   ],
   "source": [
    "df.info()\n",
    "X_unique_ids = df[\"UniqueID\"]"
   ]
  },
  {
   "cell_type": "code",
   "execution_count": 248,
   "metadata": {},
   "outputs": [],
   "source": [
    "X = df.drop(columns=[\"UniqueID\", \"will_go_to_college\"])\n",
    "y = df[\"will_go_to_college\"]"
   ]
  },
  {
   "cell_type": "code",
   "execution_count": 249,
   "metadata": {},
   "outputs": [
    {
     "data": {
      "text/plain": [
       "Index(['type_school', 'school_accreditation', 'gender', 'interest',\n",
       "       'residence', 'parent_age', 'parent_salary', 'house_area',\n",
       "       'average_grades', 'parent_was_in_college'],\n",
       "      dtype='object')"
      ]
     },
     "execution_count": 249,
     "metadata": {},
     "output_type": "execute_result"
    }
   ],
   "source": [
    "from sklearn.preprocessing import LabelEncoder\n",
    "\n",
    "le = LabelEncoder()\n",
    "columns_to_encode = [\"type_school\", \"school_accreditation\", \"gender\", \"interest\", \"residence\", \"parent_was_in_college\"]\n",
    "for column in columns_to_encode:\n",
    "    X[column] = le.fit_transform(X[column])\n",
    "\n",
    "X.columns"
   ]
  },
  {
   "cell_type": "code",
   "execution_count": 250,
   "metadata": {},
   "outputs": [],
   "source": [
    "X.drop(columns=[\"parent_age\"], inplace=True)"
   ]
  },
  {
   "cell_type": "code",
   "execution_count": 251,
   "metadata": {},
   "outputs": [
    {
     "name": "stdout",
     "output_type": "stream",
     "text": [
      "Support Vector Classifier:\n",
      "Accuracy: 0.7\n",
      "Precision: 0.6931818181818182\n",
      "Recall: 0.7439024390243902\n",
      "F1 Score: 0.7176470588235295\n",
      "\n",
      "Random Forest Classifier:\n",
      "Accuracy: 1.0\n",
      "Precision: 1.0\n",
      "Recall: 1.0\n",
      "F1 Score: 1.0\n",
      "\n",
      "Decision Tree Classifier:\n",
      "Accuracy: 0.8125\n",
      "Precision: 0.8333333333333334\n",
      "Recall: 0.7926829268292683\n",
      "F1 Score: 0.8125000000000001\n",
      "\n",
      "Logistic Regression Classifier:\n",
      "Accuracy: 0.5125\n",
      "Precision: 0.5125\n",
      "Recall: 1.0\n",
      "F1 Score: 0.6776859504132231\n"
     ]
    }
   ],
   "source": [
    "# Import necessary libraries\n",
    "from sklearn.model_selection import train_test_split\n",
    "from sklearn.svm import SVC\n",
    "from sklearn.ensemble import RandomForestClassifier\n",
    "from sklearn.tree import DecisionTreeClassifier\n",
    "from sklearn.linear_model import LogisticRegression\n",
    "from sklearn.metrics import accuracy_score, precision_score, recall_score, f1_score\n",
    "\n",
    "# Split your data into training and testing sets\n",
    "X_train, X_test, y_train, y_test = train_test_split(X, y, test_size=0.2)\n",
    "\n",
    "# Support Vector Classifier\n",
    "svc_classifier = SVC()\n",
    "svc_classifier.fit(X_train, y_train)\n",
    "svc_predictions = svc_classifier.predict(X_test)\n",
    "svc_accuracy = accuracy_score(y_test, svc_predictions)\n",
    "svc_precision = precision_score(y_test, svc_predictions)\n",
    "svc_recall = recall_score(y_test, svc_predictions)\n",
    "svc_f1 = f1_score(y_test, svc_predictions)\n",
    "\n",
    "# Random Forest Classifier\n",
    "rf_classifier = RandomForestClassifier()\n",
    "rf_classifier.fit(X, y)\n",
    "rf_predictions = rf_classifier.predict(X_test)\n",
    "rf_accuracy = accuracy_score(y_test, rf_predictions)\n",
    "rf_precision = precision_score(y_test, rf_predictions)\n",
    "rf_recall = recall_score(y_test, rf_predictions)\n",
    "rf_f1 = f1_score(y_test, rf_predictions)\n",
    "\n",
    "# Decision Tree Classifier\n",
    "dt_classifier = DecisionTreeClassifier()\n",
    "dt_classifier.fit(X_train, y_train)\n",
    "dt_predictions = dt_classifier.predict(X_test)\n",
    "dt_accuracy = accuracy_score(y_test, dt_predictions)\n",
    "dt_precision = precision_score(y_test, dt_predictions)\n",
    "dt_recall = recall_score(y_test, dt_predictions)\n",
    "dt_f1 = f1_score(y_test, dt_predictions)\n",
    "\n",
    "# Logistic Regression Classifier\n",
    "lr_classifier = LogisticRegression()\n",
    "lr_classifier.fit(X_train, y_train)\n",
    "lr_predictions = lr_classifier.predict(X_test)\n",
    "lr_accuracy = accuracy_score(y_test, lr_predictions)\n",
    "lr_precision = precision_score(y_test, lr_predictions)\n",
    "lr_recall = recall_score(y_test, lr_predictions)\n",
    "lr_f1 = f1_score(y_test, lr_predictions)\n",
    "\n",
    "# Print test metrics for each classifier\n",
    "print(\"Support Vector Classifier:\")\n",
    "print(\"Accuracy:\", svc_accuracy)\n",
    "print(\"Precision:\", svc_precision)\n",
    "print(\"Recall:\", svc_recall)\n",
    "print(\"F1 Score:\", svc_f1)\n",
    "print(\"\\nRandom Forest Classifier:\")\n",
    "print(\"Accuracy:\", rf_accuracy)\n",
    "print(\"Precision:\", rf_precision)\n",
    "print(\"Recall:\", rf_recall)\n",
    "print(\"F1 Score:\", rf_f1)\n",
    "print(\"\\nDecision Tree Classifier:\")\n",
    "print(\"Accuracy:\", dt_accuracy)\n",
    "print(\"Precision:\", dt_precision)\n",
    "print(\"Recall:\", dt_recall)\n",
    "print(\"F1 Score:\", dt_f1)\n",
    "print(\"\\nLogistic Regression Classifier:\")\n",
    "print(\"Accuracy:\", lr_accuracy)\n",
    "print(\"Precision:\", lr_precision)\n",
    "print(\"Recall:\", lr_recall)\n",
    "print(\"F1 Score:\", lr_f1)"
   ]
  },
  {
   "cell_type": "code",
   "execution_count": null,
   "metadata": {},
   "outputs": [],
   "source": []
  },
  {
   "cell_type": "code",
   "execution_count": 252,
   "metadata": {},
   "outputs": [
    {
     "data": {
      "text/plain": [
       "['rf_model_latest.pkl']"
      ]
     },
     "execution_count": 252,
     "metadata": {},
     "output_type": "execute_result"
    }
   ],
   "source": [
    "import joblib\n",
    "\n",
    "model_filename = 'rf_model_latest.pkl'\n",
    "joblib.dump(rf_classifier, model_filename)"
   ]
  },
  {
   "cell_type": "markdown",
   "metadata": {},
   "source": []
  },
  {
   "cell_type": "code",
   "execution_count": null,
   "metadata": {},
   "outputs": [],
   "source": []
  },
  {
   "cell_type": "code",
   "execution_count": null,
   "metadata": {},
   "outputs": [],
   "source": []
  },
  {
   "cell_type": "code",
   "execution_count": null,
   "metadata": {},
   "outputs": [],
   "source": []
  },
  {
   "cell_type": "code",
   "execution_count": null,
   "metadata": {},
   "outputs": [],
   "source": []
  },
  {
   "cell_type": "code",
   "execution_count": null,
   "metadata": {},
   "outputs": [],
   "source": []
  },
  {
   "cell_type": "code",
   "execution_count": null,
   "metadata": {},
   "outputs": [],
   "source": []
  },
  {
   "cell_type": "code",
   "execution_count": null,
   "metadata": {},
   "outputs": [],
   "source": []
  },
  {
   "cell_type": "code",
   "execution_count": null,
   "metadata": {},
   "outputs": [],
   "source": []
  },
  {
   "cell_type": "code",
   "execution_count": null,
   "metadata": {},
   "outputs": [],
   "source": []
  },
  {
   "cell_type": "code",
   "execution_count": null,
   "metadata": {},
   "outputs": [],
   "source": []
  }
 ],
 "metadata": {
  "kernelspec": {
   "display_name": "Python 3",
   "language": "python",
   "name": "python3"
  },
  "language_info": {
   "codemirror_mode": {
    "name": "ipython",
    "version": 3
   },
   "file_extension": ".py",
   "mimetype": "text/x-python",
   "name": "python",
   "nbconvert_exporter": "python",
   "pygments_lexer": "ipython3",
   "version": "3.11.2"
  }
 },
 "nbformat": 4,
 "nbformat_minor": 2
}
